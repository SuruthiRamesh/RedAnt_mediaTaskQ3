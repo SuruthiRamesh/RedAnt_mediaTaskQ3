{
  "nbformat": 4,
  "nbformat_minor": 0,
  "metadata": {
    "colab": {
      "name": "SuruthiRRedAntTaskQ3.ipynb",
      "private_outputs": true,
      "provenance": [],
      "collapsed_sections": []
    },
    "kernelspec": {
      "name": "python3",
      "display_name": "Python 3"
    },
    "language_info": {
      "name": "python"
    }
  },
  "cells": [
    {
      "cell_type": "code",
      "metadata": {
        "id": "qNok5PPG-6l9"
      },
      "source": [
        "def print_board(board):\n",
        "    '''Prints the board'''\n",
        "    boardString = \"\"\n",
        "    for i in range(9):\n",
        "        for j in range(9):\n",
        "            boardString += str(board[i][j]) + \" \"\n",
        "            if (j+1)%3 == 0 and j != 0 and (j+1) != 9:\n",
        "                boardString += \"| \"\n",
        "\n",
        "            if j == 8:\n",
        "                boardString += \"\\n\"\n",
        "\n",
        "            if j == 8 and (i+1)%3 == 0 and (i+1) != 9:\n",
        "                boardString += \"- - - - - - - - - - - \\n\"\n",
        "    print(boardString)\n"
      ],
      "execution_count": null,
      "outputs": []
    },
    {
      "cell_type": "code",
      "metadata": {
        "id": "IcLiRs_h_W5g"
      },
      "source": [
        "def find_empty (board):\n",
        "    \n",
        "    for i in range (9):\n",
        "        for j in range (9):\n",
        "            if board[i][j] == 0:\n",
        "                return i,j\n",
        "\n"
      ],
      "execution_count": null,
      "outputs": []
    },
    {
      "cell_type": "code",
      "metadata": {
        "id": "hqYuM7R9_aLi"
      },
      "source": [
        "def valid(board, pos, num):\n",
        "    '''Whether a number is valid in that cell, returns a bool'''\n",
        "    for i in range(9):\n",
        "        if board[i][pos[1]] == num and (i, pos[1]) != pos:  #make sure it isn't the same number we're checking for by comparing coords\n",
        "            return False\n",
        "\n",
        "    for j in range(9):\n",
        "        if board[pos[0]][j] == num and (pos[0], j) != pos:  #Same row but not same number\n",
        "            return False\n",
        "\n",
        "    start_i = pos[0] - pos[0] % 3 #ex. 5-5%3 = 3 and thats where the grid starts\n",
        "    start_j = pos[1] - pos[1] % 3\n",
        "    for i in range(3):\n",
        "        for j in range(3):  #adds i and j as needed to go from start of grid to where we need to be\n",
        "            if board[start_i + i][start_j + j] == num and (start_i + i, start_j + j) != pos:\n",
        "                return False\n",
        "    return True\n"
      ],
      "execution_count": null,
      "outputs": []
    },
    {
      "cell_type": "code",
      "metadata": {
        "id": "juO8Q32f_dfB"
      },
      "source": [
        "def solve(board):\n",
        "    '''Solves the Sudoku board via the backtracking algorithm'''\n",
        "    empty = find_empty(board)\n",
        "    if not empty: #no empty spots are left so the board is solved\n",
        "        return True\n",
        "\n",
        "    for nums in range(9):\n",
        "        if valid(board, empty,nums+1):\n",
        "            board[empty[0]][empty[1]] = nums+1\n",
        "\n",
        "            if solve(board): #recursive step\n",
        "                return True\n",
        "            board[empty[0]][empty[1]] = 0 #this number is wrong so we set it back to 0\n",
        "    return False\n"
      ],
      "execution_count": null,
      "outputs": []
    },
    {
      "cell_type": "code",
      "metadata": {
        "id": "tLlR90Sm_hjI"
      },
      "source": [
        "if __name__ == '__main__':\n",
        "    board =  [\n",
        "        [0, 0, 0, 0, 0, 0, 0, 0, 0],\n",
        "        [0, 0, 0, 0, 0, 0, 0, 0, 0],\n",
        "        [0, 0, 0, 0, 0, 0, 0, 0, 0],\n",
        "        [0, 0, 0, 0, 0, 0, 0, 0, 0],\n",
        "        [0, 0, 0, 0, 0, 0, 0, 0, 0],\n",
        "        [0, 0, 0, 0, 0, 0, 0, 0, 0],\n",
        "        [0, 0, 0, 0, 0, 0, 0, 0, 0],\n",
        "        [0, 0, 0, 0, 0, 0, 0, 0, 0],\n",
        "        [0, 0, 0, 0, 0, 0, 0, 0, 0]\n",
        "    ]\n",
        "    ch1 = 'y'\n",
        "    while(ch1 == 'y'):\n",
        "        \n",
        "        print(\"Enter Your Choice \")\n",
        "        print(\"1. Creating A Sudoku Board \")\n",
        "        print(\"2. Print A Board\")\n",
        "        print(\"3. Check for Answer\")\n",
        "        ch = int(input('[1/2/3] : '))\n",
        "        \n",
        "        if(ch == 1):\n",
        "            #Cathy Input Board\n",
        "            number = int(input(\"Enter the no of input numbers : \"))\n",
        "            for i in range(number):\n",
        "                row = int(input('Enter Row No. to change :'))\n",
        "                column = int(input('Enter Column No. to change :'))\n",
        "                board[row][column] = int(input('Enter the new number : '))\n",
        "                print_board(board)\n",
        "        elif(ch == 2):\n",
        "            print_board(board)\n",
        "        else:\n",
        "            solve(board)\n",
        "            print_board(board)\n",
        "        \n",
        "        ch1 = input('Do you want to Continue [y/n] : ')\n"
      ],
      "execution_count": null,
      "outputs": []
    }
  ]
}